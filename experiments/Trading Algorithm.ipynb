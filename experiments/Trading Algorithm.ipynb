{
 "cells": [
  {
   "cell_type": "markdown",
   "metadata": {},
   "source": [
    "## Trading Algorithm XGBoost"
   ]
  },
  {
   "cell_type": "markdown",
   "metadata": {},
   "source": [
    "*Import essential libraries.*"
   ]
  },
  {
   "cell_type": "code",
   "execution_count": 3,
   "metadata": {},
   "outputs": [],
   "source": [
    "import pandas as pd\n",
    "import numpy as np\n",
    "import matplotlib.pyplot as plt"
   ]
  },
  {
   "cell_type": "markdown",
   "metadata": {},
   "source": [
    "### Data Preprocessing"
   ]
  },
  {
   "cell_type": "markdown",
   "metadata": {},
   "source": [
    "*Import dataset of historical prices.*"
   ]
  },
  {
   "cell_type": "code",
   "execution_count": 4,
   "metadata": {},
   "outputs": [
    {
     "data": {
      "text/html": [
       "<div>\n",
       "<style scoped>\n",
       "    .dataframe tbody tr th:only-of-type {\n",
       "        vertical-align: middle;\n",
       "    }\n",
       "\n",
       "    .dataframe tbody tr th {\n",
       "        vertical-align: top;\n",
       "    }\n",
       "\n",
       "    .dataframe thead th {\n",
       "        text-align: right;\n",
       "    }\n",
       "</style>\n",
       "<table border=\"1\" class=\"dataframe\">\n",
       "  <thead>\n",
       "    <tr style=\"text-align: right;\">\n",
       "      <th></th>\n",
       "      <th>close</th>\n",
       "      <th>high</th>\n",
       "      <th>low</th>\n",
       "      <th>open</th>\n",
       "      <th>time</th>\n",
       "      <th>volume</th>\n",
       "      <th>avg</th>\n",
       "    </tr>\n",
       "  </thead>\n",
       "  <tbody>\n",
       "    <tr>\n",
       "      <th>count</th>\n",
       "      <td>66634.000000</td>\n",
       "      <td>66634.000000</td>\n",
       "      <td>66634.000000</td>\n",
       "      <td>66634.000000</td>\n",
       "      <td>6.663400e+04</td>\n",
       "      <td>66634.000000</td>\n",
       "      <td>66634.000000</td>\n",
       "    </tr>\n",
       "    <tr>\n",
       "      <th>mean</th>\n",
       "      <td>2164.675160</td>\n",
       "      <td>2172.157180</td>\n",
       "      <td>2157.222371</td>\n",
       "      <td>2164.814040</td>\n",
       "      <td>1.575084e+12</td>\n",
       "      <td>246.630589</td>\n",
       "      <td>2164.744600</td>\n",
       "    </tr>\n",
       "    <tr>\n",
       "      <th>std</th>\n",
       "      <td>1632.501927</td>\n",
       "      <td>1637.489664</td>\n",
       "      <td>1627.691797</td>\n",
       "      <td>1632.735182</td>\n",
       "      <td>5.772850e+09</td>\n",
       "      <td>4306.713785</td>\n",
       "      <td>1632.592313</td>\n",
       "    </tr>\n",
       "    <tr>\n",
       "      <th>min</th>\n",
       "      <td>37.700000</td>\n",
       "      <td>43.810000</td>\n",
       "      <td>34.980000</td>\n",
       "      <td>38.680000</td>\n",
       "      <td>1.565086e+12</td>\n",
       "      <td>0.000000</td>\n",
       "      <td>41.145000</td>\n",
       "    </tr>\n",
       "    <tr>\n",
       "      <th>25%</th>\n",
       "      <td>927.500000</td>\n",
       "      <td>930.250000</td>\n",
       "      <td>924.500000</td>\n",
       "      <td>927.500000</td>\n",
       "      <td>1.570083e+12</td>\n",
       "      <td>0.000000</td>\n",
       "      <td>927.250000</td>\n",
       "    </tr>\n",
       "    <tr>\n",
       "      <th>50%</th>\n",
       "      <td>2030.500000</td>\n",
       "      <td>2039.000000</td>\n",
       "      <td>2024.000000</td>\n",
       "      <td>2030.500000</td>\n",
       "      <td>1.575086e+12</td>\n",
       "      <td>0.000000</td>\n",
       "      <td>2031.000000</td>\n",
       "    </tr>\n",
       "    <tr>\n",
       "      <th>75%</th>\n",
       "      <td>2873.750000</td>\n",
       "      <td>2887.000000</td>\n",
       "      <td>2860.000000</td>\n",
       "      <td>2873.000000</td>\n",
       "      <td>1.580083e+12</td>\n",
       "      <td>0.000000</td>\n",
       "      <td>2874.500000</td>\n",
       "    </tr>\n",
       "    <tr>\n",
       "      <th>max</th>\n",
       "      <td>10047.500000</td>\n",
       "      <td>10077.500000</td>\n",
       "      <td>9937.500000</td>\n",
       "      <td>10047.500000</td>\n",
       "      <td>1.585081e+12</td>\n",
       "      <td>608227.824400</td>\n",
       "      <td>10000.000000</td>\n",
       "    </tr>\n",
       "  </tbody>\n",
       "</table>\n",
       "</div>"
      ],
      "text/plain": [
       "              close          high           low          open          time  \\\n",
       "count  66634.000000  66634.000000  66634.000000  66634.000000  6.663400e+04   \n",
       "mean    2164.675160   2172.157180   2157.222371   2164.814040  1.575084e+12   \n",
       "std     1632.501927   1637.489664   1627.691797   1632.735182  5.772850e+09   \n",
       "min       37.700000     43.810000     34.980000     38.680000  1.565086e+12   \n",
       "25%      927.500000    930.250000    924.500000    927.500000  1.570083e+12   \n",
       "50%     2030.500000   2039.000000   2024.000000   2030.500000  1.575086e+12   \n",
       "75%     2873.750000   2887.000000   2860.000000   2873.000000  1.580083e+12   \n",
       "max    10047.500000  10077.500000   9937.500000  10047.500000  1.585081e+12   \n",
       "\n",
       "              volume           avg  \n",
       "count   66634.000000  66634.000000  \n",
       "mean      246.630589   2164.744600  \n",
       "std      4306.713785   1632.592313  \n",
       "min         0.000000     41.145000  \n",
       "25%         0.000000    927.250000  \n",
       "50%         0.000000   2031.000000  \n",
       "75%         0.000000   2874.500000  \n",
       "max    608227.824400  10000.000000  "
      ]
     },
     "execution_count": 4,
     "metadata": {},
     "output_type": "execute_result"
    }
   ],
   "source": [
    "trade_data = pd.read_csv('ETHBULL-USD-historical.csv')\n",
    "trade_data.describe()"
   ]
  },
  {
   "cell_type": "markdown",
   "metadata": {},
   "source": [
    "*Make max_trade_data, a dataframe that contains the maximum value of the next 20 closing prices for each row. Also, the 'change' columns is initialized.*"
   ]
  },
  {
   "cell_type": "code",
   "execution_count": 5,
   "metadata": {},
   "outputs": [],
   "source": [
    "max_trade_data = trade_data[['close','high','low','open']].rolling(20).max()\n",
    "max_trade_data = max_trade_data.shift(periods=-20)\n",
    "max_trade_data['change']=0"
   ]
  },
  {
   "cell_type": "markdown",
   "metadata": {},
   "source": [
    "*Delete last 20 rows as the rolling makes them NaN.*"
   ]
  },
  {
   "cell_type": "code",
   "execution_count": 6,
   "metadata": {},
   "outputs": [],
   "source": [
    "trade_data = trade_data[:-20]\n",
    "max_trade_data = max_trade_data[:-20]"
   ]
  },
  {
   "cell_type": "markdown",
   "metadata": {},
   "source": [
    "*Assign 1 in the 'change' column for rows that have a max_trade_data 'close' value larger than the trade_data 'close', and viceversa for -1. This is done in such a way that the value of 'change' is 1 if the closing value increased in the next 20 rows, it's -1 if the closing value decreased and 0 if it reached the same value.*"
   ]
  },
  {
   "cell_type": "code",
   "execution_count": 7,
   "metadata": {},
   "outputs": [],
   "source": [
    "max_trade_data.loc[max_trade_data['close'] > trade_data['close'],'change']=1\n",
    "max_trade_data.loc[max_trade_data['close'] < trade_data['close'],'change']=-1"
   ]
  },
  {
   "cell_type": "code",
   "execution_count": 8,
   "metadata": {},
   "outputs": [],
   "source": [
    "trade_data['change']=max_trade_data['change']"
   ]
  },
  {
   "cell_type": "markdown",
   "metadata": {},
   "source": [
    "*Make indicators*"
   ]
  },
  {
   "cell_type": "code",
   "execution_count": 9,
   "metadata": {},
   "outputs": [],
   "source": [
    "trade_data['close_slope'] = trade_data['close'].diff()\n",
    "\n",
    "trade_data['ema_26']=pd.Series.ewm(trade_data['close'],span=26).mean()\n",
    "trade_data['ema_26_slope'] = trade_data['ema_26'].diff()\n",
    "trade_data['std_26']=trade_data['close'].rolling(26).std()\n",
    "trade_data['std_26_slope'] = trade_data['std_26'].diff()\n",
    "\n",
    "trade_data['ema_9']=pd.Series.ewm(trade_data['close'],span=9).mean()\n",
    "trade_data['ema_9_slope'] = trade_data['ema_9'].diff()\n",
    "trade_data['std_9']=trade_data['close'].rolling(9).std()\n",
    "trade_data['std_9_slope'] = trade_data['std_9'].diff()\n",
    "\n",
    "trade_data['ema_20']=pd.Series.ewm(trade_data['close'],span=9).mean()\n",
    "trade_data['ema_20_slope'] = trade_data['ema_20'].diff()\n",
    "trade_data['std_20']=trade_data['close'].rolling(20).std()\n",
    "trade_data['std_20_slope'] = trade_data['std_20'].diff()"
   ]
  },
  {
   "cell_type": "markdown",
   "metadata": {},
   "source": [
    "Delete the first 26 rows as they are NaN."
   ]
  },
  {
   "cell_type": "code",
   "execution_count": 10,
   "metadata": {},
   "outputs": [],
   "source": [
    "trade_data = trade_data[26:]"
   ]
  },
  {
   "cell_type": "markdown",
   "metadata": {},
   "source": [
    "*Divide into target and features*"
   ]
  },
  {
   "cell_type": "code",
   "execution_count": 11,
   "metadata": {},
   "outputs": [],
   "source": [
    "trade_data_target = trade_data['change']\n",
    "trade_data_features = trade_data.drop(['change'],axis=1)"
   ]
  },
  {
   "cell_type": "code",
   "execution_count": 12,
   "metadata": {},
   "outputs": [
    {
     "data": {
      "text/html": [
       "<div>\n",
       "<style scoped>\n",
       "    .dataframe tbody tr th:only-of-type {\n",
       "        vertical-align: middle;\n",
       "    }\n",
       "\n",
       "    .dataframe tbody tr th {\n",
       "        vertical-align: top;\n",
       "    }\n",
       "\n",
       "    .dataframe thead th {\n",
       "        text-align: right;\n",
       "    }\n",
       "</style>\n",
       "<table border=\"1\" class=\"dataframe\">\n",
       "  <thead>\n",
       "    <tr style=\"text-align: right;\">\n",
       "      <th></th>\n",
       "      <th>close</th>\n",
       "      <th>high</th>\n",
       "      <th>low</th>\n",
       "      <th>open</th>\n",
       "      <th>startTime</th>\n",
       "      <th>time</th>\n",
       "      <th>volume</th>\n",
       "      <th>avg</th>\n",
       "      <th>close_slope</th>\n",
       "      <th>ema_26</th>\n",
       "      <th>...</th>\n",
       "      <th>std_26</th>\n",
       "      <th>std_26_slope</th>\n",
       "      <th>ema_9</th>\n",
       "      <th>ema_9_slope</th>\n",
       "      <th>std_9</th>\n",
       "      <th>std_9_slope</th>\n",
       "      <th>ema_20</th>\n",
       "      <th>ema_20_slope</th>\n",
       "      <th>std_20</th>\n",
       "      <th>std_20_slope</th>\n",
       "    </tr>\n",
       "  </thead>\n",
       "  <tbody>\n",
       "    <tr>\n",
       "      <th>26</th>\n",
       "      <td>8867.5</td>\n",
       "      <td>8875.0</td>\n",
       "      <td>8785.0</td>\n",
       "      <td>8832.5</td>\n",
       "      <td>2019-08-06T12:10:00+00:00</td>\n",
       "      <td>1.565093e+12</td>\n",
       "      <td>0.0</td>\n",
       "      <td>8850.0</td>\n",
       "      <td>35.0</td>\n",
       "      <td>9048.948352</td>\n",
       "      <td>...</td>\n",
       "      <td>378.682128</td>\n",
       "      <td>-15.459540</td>\n",
       "      <td>8923.205288</td>\n",
       "      <td>-13.968539</td>\n",
       "      <td>78.708102</td>\n",
       "      <td>-7.614332</td>\n",
       "      <td>8923.205288</td>\n",
       "      <td>-13.968539</td>\n",
       "      <td>113.863015</td>\n",
       "      <td>4.044085</td>\n",
       "    </tr>\n",
       "    <tr>\n",
       "      <th>27</th>\n",
       "      <td>8912.5</td>\n",
       "      <td>8937.5</td>\n",
       "      <td>8860.0</td>\n",
       "      <td>8867.5</td>\n",
       "      <td>2019-08-06T12:15:00+00:00</td>\n",
       "      <td>1.565094e+12</td>\n",
       "      <td>0.0</td>\n",
       "      <td>8890.0</td>\n",
       "      <td>45.0</td>\n",
       "      <td>9037.515888</td>\n",
       "      <td>...</td>\n",
       "      <td>347.827765</td>\n",
       "      <td>-30.854363</td>\n",
       "      <td>8921.060081</td>\n",
       "      <td>-2.145207</td>\n",
       "      <td>57.605579</td>\n",
       "      <td>-21.102522</td>\n",
       "      <td>8921.060081</td>\n",
       "      <td>-2.145207</td>\n",
       "      <td>99.980590</td>\n",
       "      <td>-13.882425</td>\n",
       "    </tr>\n",
       "    <tr>\n",
       "      <th>28</th>\n",
       "      <td>8917.5</td>\n",
       "      <td>8940.0</td>\n",
       "      <td>8910.0</td>\n",
       "      <td>8912.5</td>\n",
       "      <td>2019-08-06T12:20:00+00:00</td>\n",
       "      <td>1.565094e+12</td>\n",
       "      <td>0.0</td>\n",
       "      <td>8915.0</td>\n",
       "      <td>5.0</td>\n",
       "      <td>9027.556954</td>\n",
       "      <td>...</td>\n",
       "      <td>297.213469</td>\n",
       "      <td>-50.614296</td>\n",
       "      <td>8920.346961</td>\n",
       "      <td>-0.713120</td>\n",
       "      <td>41.570723</td>\n",
       "      <td>-16.034857</td>\n",
       "      <td>8920.346961</td>\n",
       "      <td>-0.713120</td>\n",
       "      <td>86.109630</td>\n",
       "      <td>-13.870960</td>\n",
       "    </tr>\n",
       "    <tr>\n",
       "      <th>29</th>\n",
       "      <td>8877.5</td>\n",
       "      <td>8937.5</td>\n",
       "      <td>8875.0</td>\n",
       "      <td>8917.5</td>\n",
       "      <td>2019-08-06T12:25:00+00:00</td>\n",
       "      <td>1.565094e+12</td>\n",
       "      <td>0.0</td>\n",
       "      <td>8897.5</td>\n",
       "      <td>-40.0</td>\n",
       "      <td>9015.215126</td>\n",
       "      <td>...</td>\n",
       "      <td>251.483292</td>\n",
       "      <td>-45.730177</td>\n",
       "      <td>8911.766948</td>\n",
       "      <td>-8.580014</td>\n",
       "      <td>37.578621</td>\n",
       "      <td>-3.992102</td>\n",
       "      <td>8911.766948</td>\n",
       "      <td>-8.580014</td>\n",
       "      <td>87.043830</td>\n",
       "      <td>0.934199</td>\n",
       "    </tr>\n",
       "    <tr>\n",
       "      <th>30</th>\n",
       "      <td>8837.5</td>\n",
       "      <td>8920.0</td>\n",
       "      <td>8837.5</td>\n",
       "      <td>8877.5</td>\n",
       "      <td>2019-08-06T12:30:00+00:00</td>\n",
       "      <td>1.565095e+12</td>\n",
       "      <td>0.0</td>\n",
       "      <td>8857.5</td>\n",
       "      <td>-40.0</td>\n",
       "      <td>9000.716981</td>\n",
       "      <td>...</td>\n",
       "      <td>199.246103</td>\n",
       "      <td>-52.237189</td>\n",
       "      <td>8896.898833</td>\n",
       "      <td>-14.868114</td>\n",
       "      <td>39.747467</td>\n",
       "      <td>2.168845</td>\n",
       "      <td>8896.898833</td>\n",
       "      <td>-14.868114</td>\n",
       "      <td>87.777661</td>\n",
       "      <td>0.733831</td>\n",
       "    </tr>\n",
       "  </tbody>\n",
       "</table>\n",
       "<p>5 rows × 21 columns</p>\n",
       "</div>"
      ],
      "text/plain": [
       "     close    high     low    open                  startTime          time  \\\n",
       "26  8867.5  8875.0  8785.0  8832.5  2019-08-06T12:10:00+00:00  1.565093e+12   \n",
       "27  8912.5  8937.5  8860.0  8867.5  2019-08-06T12:15:00+00:00  1.565094e+12   \n",
       "28  8917.5  8940.0  8910.0  8912.5  2019-08-06T12:20:00+00:00  1.565094e+12   \n",
       "29  8877.5  8937.5  8875.0  8917.5  2019-08-06T12:25:00+00:00  1.565094e+12   \n",
       "30  8837.5  8920.0  8837.5  8877.5  2019-08-06T12:30:00+00:00  1.565095e+12   \n",
       "\n",
       "    volume     avg  close_slope       ema_26  ...      std_26  std_26_slope  \\\n",
       "26     0.0  8850.0         35.0  9048.948352  ...  378.682128    -15.459540   \n",
       "27     0.0  8890.0         45.0  9037.515888  ...  347.827765    -30.854363   \n",
       "28     0.0  8915.0          5.0  9027.556954  ...  297.213469    -50.614296   \n",
       "29     0.0  8897.5        -40.0  9015.215126  ...  251.483292    -45.730177   \n",
       "30     0.0  8857.5        -40.0  9000.716981  ...  199.246103    -52.237189   \n",
       "\n",
       "          ema_9  ema_9_slope      std_9  std_9_slope       ema_20  \\\n",
       "26  8923.205288   -13.968539  78.708102    -7.614332  8923.205288   \n",
       "27  8921.060081    -2.145207  57.605579   -21.102522  8921.060081   \n",
       "28  8920.346961    -0.713120  41.570723   -16.034857  8920.346961   \n",
       "29  8911.766948    -8.580014  37.578621    -3.992102  8911.766948   \n",
       "30  8896.898833   -14.868114  39.747467     2.168845  8896.898833   \n",
       "\n",
       "    ema_20_slope      std_20  std_20_slope  \n",
       "26    -13.968539  113.863015      4.044085  \n",
       "27     -2.145207   99.980590    -13.882425  \n",
       "28     -0.713120   86.109630    -13.870960  \n",
       "29     -8.580014   87.043830      0.934199  \n",
       "30    -14.868114   87.777661      0.733831  \n",
       "\n",
       "[5 rows x 21 columns]"
      ]
     },
     "execution_count": 12,
     "metadata": {},
     "output_type": "execute_result"
    }
   ],
   "source": [
    "trade_data_features.head()"
   ]
  },
  {
   "cell_type": "markdown",
   "metadata": {},
   "source": [
    "*Drop datetime column not adequate for xgboost*"
   ]
  },
  {
   "cell_type": "code",
   "execution_count": 13,
   "metadata": {},
   "outputs": [],
   "source": [
    "trade_data_features = trade_data_features.drop(['startTime'],axis=1)"
   ]
  },
  {
   "cell_type": "markdown",
   "metadata": {},
   "source": [
    "### Model Training"
   ]
  },
  {
   "cell_type": "code",
   "execution_count": 14,
   "metadata": {},
   "outputs": [],
   "source": [
    "import xgboost as xgb\n",
    "from sklearn.model_selection import train_test_split"
   ]
  },
  {
   "cell_type": "markdown",
   "metadata": {},
   "source": [
    "*Divide dataset into train and test data.*"
   ]
  },
  {
   "cell_type": "code",
   "execution_count": 15,
   "metadata": {},
   "outputs": [],
   "source": [
    "X_train, X_test, y_train, y_test = train_test_split(trade_data_features, trade_data_target, test_size=0.33, random_state=42)"
   ]
  },
  {
   "cell_type": "code",
   "execution_count": 19,
   "metadata": {},
   "outputs": [],
   "source": [
    "X_train_t,X_test_t,y_train_t,y_test_t = trade_data_features[:44000],trade_data_features[44000:],trade_data_target[:44000],trade_data_target[44000:]"
   ]
  },
  {
   "cell_type": "markdown",
   "metadata": {},
   "source": [
    "*Initialize xgboost model*"
   ]
  },
  {
   "cell_type": "code",
   "execution_count": 20,
   "metadata": {},
   "outputs": [],
   "source": [
    "model=xgb.XGBClassifier(random_state=1,learning_rate=0.01)\n",
    "model_t = xgb.XGBClassifier(random_state=1,learning_rate=0.01)"
   ]
  },
  {
   "cell_type": "markdown",
   "metadata": {},
   "source": [
    "*Train xgboost model.*"
   ]
  },
  {
   "cell_type": "code",
   "execution_count": 17,
   "metadata": {},
   "outputs": [
    {
     "data": {
      "text/plain": [
       "XGBClassifier(base_score=0.5, booster=None, colsample_bylevel=1,\n",
       "              colsample_bynode=1, colsample_bytree=1, gamma=0, gpu_id=-1,\n",
       "              importance_type='gain', interaction_constraints=None,\n",
       "              learning_rate=0.01, max_delta_step=0, max_depth=6,\n",
       "              min_child_weight=1, missing=nan, monotone_constraints=None,\n",
       "              n_estimators=100, n_jobs=0, num_parallel_tree=1,\n",
       "              objective='multi:softprob', random_state=1, reg_alpha=0,\n",
       "              reg_lambda=1, scale_pos_weight=None, subsample=1,\n",
       "              tree_method=None, validate_parameters=False, verbosity=None)"
      ]
     },
     "execution_count": 17,
     "metadata": {},
     "output_type": "execute_result"
    }
   ],
   "source": [
    "model.fit(X_train,y_train)"
   ]
  },
  {
   "cell_type": "code",
   "execution_count": 21,
   "metadata": {},
   "outputs": [
    {
     "data": {
      "text/plain": [
       "XGBClassifier(base_score=0.5, booster=None, colsample_bylevel=1,\n",
       "              colsample_bynode=1, colsample_bytree=1, gamma=0, gpu_id=-1,\n",
       "              importance_type='gain', interaction_constraints=None,\n",
       "              learning_rate=0.01, max_delta_step=0, max_depth=6,\n",
       "              min_child_weight=1, missing=nan, monotone_constraints=None,\n",
       "              n_estimators=100, n_jobs=0, num_parallel_tree=1,\n",
       "              objective='multi:softprob', random_state=1, reg_alpha=0,\n",
       "              reg_lambda=1, scale_pos_weight=None, subsample=1,\n",
       "              tree_method=None, validate_parameters=False, verbosity=None)"
      ]
     },
     "execution_count": 21,
     "metadata": {},
     "output_type": "execute_result"
    }
   ],
   "source": [
    "model_t.fit(X_train_t,y_train_t)"
   ]
  },
  {
   "cell_type": "code",
   "execution_count": 18,
   "metadata": {},
   "outputs": [
    {
     "data": {
      "text/plain": [
       "0.8558816837315131"
      ]
     },
     "execution_count": 18,
     "metadata": {},
     "output_type": "execute_result"
    }
   ],
   "source": [
    "model.score(X_test,y_test)"
   ]
  },
  {
   "cell_type": "code",
   "execution_count": 22,
   "metadata": {},
   "outputs": [
    {
     "data": {
      "text/plain": [
       "0.8496928327645051"
      ]
     },
     "execution_count": 22,
     "metadata": {},
     "output_type": "execute_result"
    }
   ],
   "source": [
    "model_t.score(X_test,y_test)"
   ]
  },
  {
   "cell_type": "code",
   "execution_count": 23,
   "metadata": {},
   "outputs": [
    {
     "data": {
      "text/plain": [
       " 1    56865\n",
       "-1     8249\n",
       " 0     1474\n",
       "Name: change, dtype: int64"
      ]
     },
     "execution_count": 23,
     "metadata": {},
     "output_type": "execute_result"
    }
   ],
   "source": [
    "trade_data_target.value_counts()"
   ]
  },
  {
   "cell_type": "code",
   "execution_count": 30,
   "metadata": {},
   "outputs": [],
   "source": [
    "new_y_train = y_train[y_train==1][:5573]\n",
    "new_X_train = X_train[y_train==1][:5573]"
   ]
  },
  {
   "cell_type": "code",
   "execution_count": 31,
   "metadata": {},
   "outputs": [],
   "source": [
    "new_y_train = pd.concat([y_train[y_train!=1],new_y_train])\n",
    "new_X_train = pd.concat([X_train[y_train!=1],new_X_train])"
   ]
  },
  {
   "cell_type": "code",
   "execution_count": 32,
   "metadata": {},
   "outputs": [],
   "source": [
    "model_new = xgb.XGBClassifier(random_state=1,learning_rate=0.01)"
   ]
  },
  {
   "cell_type": "code",
   "execution_count": 33,
   "metadata": {},
   "outputs": [
    {
     "data": {
      "text/plain": [
       "XGBClassifier(base_score=0.5, booster=None, colsample_bylevel=1,\n",
       "              colsample_bynode=1, colsample_bytree=1, gamma=0, gpu_id=-1,\n",
       "              importance_type='gain', interaction_constraints=None,\n",
       "              learning_rate=0.01, max_delta_step=0, max_depth=6,\n",
       "              min_child_weight=1, missing=nan, monotone_constraints=None,\n",
       "              n_estimators=100, n_jobs=0, num_parallel_tree=1,\n",
       "              objective='multi:softprob', random_state=1, reg_alpha=0,\n",
       "              reg_lambda=1, scale_pos_weight=None, subsample=1,\n",
       "              tree_method=None, validate_parameters=False, verbosity=None)"
      ]
     },
     "execution_count": 33,
     "metadata": {},
     "output_type": "execute_result"
    }
   ],
   "source": [
    "model_new.fit(new_X_train,new_y_train)"
   ]
  },
  {
   "cell_type": "code",
   "execution_count": 34,
   "metadata": {},
   "outputs": [
    {
     "data": {
      "text/plain": [
       "0.5837087599544938"
      ]
     },
     "execution_count": 34,
     "metadata": {},
     "output_type": "execute_result"
    }
   ],
   "source": [
    "model_new.score(X_test,y_test)"
   ]
  },
  {
   "cell_type": "code",
   "execution_count": null,
   "metadata": {},
   "outputs": [],
   "source": [
    " "
   ]
  }
 ],
 "metadata": {
  "kernelspec": {
   "display_name": "Python 3",
   "language": "python",
   "name": "python3"
  },
  "language_info": {
   "codemirror_mode": {
    "name": "ipython",
    "version": 3
   },
   "file_extension": ".py",
   "mimetype": "text/x-python",
   "name": "python",
   "nbconvert_exporter": "python",
   "pygments_lexer": "ipython3",
   "version": "3.7.3"
  }
 },
 "nbformat": 4,
 "nbformat_minor": 2
}
