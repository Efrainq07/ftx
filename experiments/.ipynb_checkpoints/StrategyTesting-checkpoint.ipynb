{
 "cells": [
  {
   "cell_type": "code",
   "execution_count": 4,
   "metadata": {},
   "outputs": [],
   "source": [
    "import pandas as pd\n",
    "import numpy as np \n",
    "import matplotlib.pyplot as plt\n",
    "from fbprophet import Prophet\n",
    "import pickle"
   ]
  },
  {
   "cell_type": "code",
   "execution_count": 4,
   "metadata": {},
   "outputs": [
    {
     "data": {
      "text/html": [
       "<div>\n",
       "<style scoped>\n",
       "    .dataframe tbody tr th:only-of-type {\n",
       "        vertical-align: middle;\n",
       "    }\n",
       "\n",
       "    .dataframe tbody tr th {\n",
       "        vertical-align: top;\n",
       "    }\n",
       "\n",
       "    .dataframe thead th {\n",
       "        text-align: right;\n",
       "    }\n",
       "</style>\n",
       "<table border=\"1\" class=\"dataframe\">\n",
       "  <thead>\n",
       "    <tr style=\"text-align: right;\">\n",
       "      <th></th>\n",
       "      <th>close</th>\n",
       "      <th>high</th>\n",
       "      <th>low</th>\n",
       "      <th>open</th>\n",
       "      <th>startTime</th>\n",
       "      <th>time</th>\n",
       "      <th>volume</th>\n",
       "      <th>avg</th>\n",
       "    </tr>\n",
       "  </thead>\n",
       "  <tbody>\n",
       "    <tr>\n",
       "      <th>0</th>\n",
       "      <td>9842.5</td>\n",
       "      <td>9850.0</td>\n",
       "      <td>9615.0</td>\n",
       "      <td>9615.0</td>\n",
       "      <td>2019-08-06T10:00:00+00:00</td>\n",
       "      <td>1.565086e+12</td>\n",
       "      <td>0.09835</td>\n",
       "      <td>9728.75</td>\n",
       "    </tr>\n",
       "    <tr>\n",
       "      <th>1</th>\n",
       "      <td>9952.5</td>\n",
       "      <td>10005.0</td>\n",
       "      <td>9842.5</td>\n",
       "      <td>9842.5</td>\n",
       "      <td>2019-08-06T10:05:00+00:00</td>\n",
       "      <td>1.565086e+12</td>\n",
       "      <td>0.00000</td>\n",
       "      <td>9897.50</td>\n",
       "    </tr>\n",
       "    <tr>\n",
       "      <th>2</th>\n",
       "      <td>10047.5</td>\n",
       "      <td>10072.5</td>\n",
       "      <td>9937.5</td>\n",
       "      <td>9952.5</td>\n",
       "      <td>2019-08-06T10:10:00+00:00</td>\n",
       "      <td>1.565086e+12</td>\n",
       "      <td>0.00000</td>\n",
       "      <td>10000.00</td>\n",
       "    </tr>\n",
       "    <tr>\n",
       "      <th>3</th>\n",
       "      <td>9897.5</td>\n",
       "      <td>10077.5</td>\n",
       "      <td>9895.0</td>\n",
       "      <td>10047.5</td>\n",
       "      <td>2019-08-06T10:15:00+00:00</td>\n",
       "      <td>1.565086e+12</td>\n",
       "      <td>0.00000</td>\n",
       "      <td>9972.50</td>\n",
       "    </tr>\n",
       "    <tr>\n",
       "      <th>4</th>\n",
       "      <td>9835.0</td>\n",
       "      <td>9897.5</td>\n",
       "      <td>9835.0</td>\n",
       "      <td>9897.5</td>\n",
       "      <td>2019-08-06T10:20:00+00:00</td>\n",
       "      <td>1.565087e+12</td>\n",
       "      <td>0.00000</td>\n",
       "      <td>9866.25</td>\n",
       "    </tr>\n",
       "  </tbody>\n",
       "</table>\n",
       "</div>"
      ],
      "text/plain": [
       "     close     high     low     open                  startTime          time  \\\n",
       "0   9842.5   9850.0  9615.0   9615.0  2019-08-06T10:00:00+00:00  1.565086e+12   \n",
       "1   9952.5  10005.0  9842.5   9842.5  2019-08-06T10:05:00+00:00  1.565086e+12   \n",
       "2  10047.5  10072.5  9937.5   9952.5  2019-08-06T10:10:00+00:00  1.565086e+12   \n",
       "3   9897.5  10077.5  9895.0  10047.5  2019-08-06T10:15:00+00:00  1.565086e+12   \n",
       "4   9835.0   9897.5  9835.0   9897.5  2019-08-06T10:20:00+00:00  1.565087e+12   \n",
       "\n",
       "    volume       avg  \n",
       "0  0.09835   9728.75  \n",
       "1  0.00000   9897.50  \n",
       "2  0.00000  10000.00  \n",
       "3  0.00000   9972.50  \n",
       "4  0.00000   9866.25  "
      ]
     },
     "execution_count": 4,
     "metadata": {},
     "output_type": "execute_result"
    }
   ],
   "source": [
    "df = pd.read_csv('./ETHBULL-USD-historical.csv')\n",
    "df.drop(columns = \"Unnamed: 0\", inplace = True)\n",
    "df.head()"
   ]
  },
  {
   "cell_type": "code",
   "execution_count": 18,
   "metadata": {},
   "outputs": [],
   "source": [
    "# Calculates EMAs and adds them as indicators \n",
    "for col in ['open', 'high', 'low', 'close', 'avg']:\n",
    "    df[col + '_EMA26'] = df[col].ewm(span=26).mean()\n",
    "    df[col + '_EMA9'] = df[col].ewm(span=9).mean()\n",
    "    \n",
    "df['diff'] = df['close_EMA26'] - df['close_EMA9']"
   ]
  },
  {
   "cell_type": "code",
   "execution_count": 22,
   "metadata": {},
   "outputs": [
    {
     "data": {
      "text/html": [
       "<div>\n",
       "<style scoped>\n",
       "    .dataframe tbody tr th:only-of-type {\n",
       "        vertical-align: middle;\n",
       "    }\n",
       "\n",
       "    .dataframe tbody tr th {\n",
       "        vertical-align: top;\n",
       "    }\n",
       "\n",
       "    .dataframe thead th {\n",
       "        text-align: right;\n",
       "    }\n",
       "</style>\n",
       "<table border=\"1\" class=\"dataframe\">\n",
       "  <thead>\n",
       "    <tr style=\"text-align: right;\">\n",
       "      <th></th>\n",
       "      <th>ds</th>\n",
       "      <th>y</th>\n",
       "    </tr>\n",
       "  </thead>\n",
       "  <tbody>\n",
       "    <tr>\n",
       "      <th>0</th>\n",
       "      <td>2019-08-06 10:00:00</td>\n",
       "      <td>9842.5</td>\n",
       "    </tr>\n",
       "    <tr>\n",
       "      <th>1</th>\n",
       "      <td>2019-08-06 10:05:00</td>\n",
       "      <td>9952.5</td>\n",
       "    </tr>\n",
       "    <tr>\n",
       "      <th>2</th>\n",
       "      <td>2019-08-06 10:10:00</td>\n",
       "      <td>10047.5</td>\n",
       "    </tr>\n",
       "    <tr>\n",
       "      <th>3</th>\n",
       "      <td>2019-08-06 10:15:00</td>\n",
       "      <td>9897.5</td>\n",
       "    </tr>\n",
       "    <tr>\n",
       "      <th>4</th>\n",
       "      <td>2019-08-06 10:20:00</td>\n",
       "      <td>9835.0</td>\n",
       "    </tr>\n",
       "  </tbody>\n",
       "</table>\n",
       "</div>"
      ],
      "text/plain": [
       "                   ds        y\n",
       "0 2019-08-06 10:00:00   9842.5\n",
       "1 2019-08-06 10:05:00   9952.5\n",
       "2 2019-08-06 10:10:00  10047.5\n",
       "3 2019-08-06 10:15:00   9897.5\n",
       "4 2019-08-06 10:20:00   9835.0"
      ]
     },
     "execution_count": 22,
     "metadata": {},
     "output_type": "execute_result"
    }
   ],
   "source": [
    "proph_df = pd.DataFrame()\n",
    "proph_df['ds'] = df['startTime'].astype('datetime64[ns]').dt.tz_localize(None)\n",
    "proph_df['y'] = df['close']\n",
    "proph_df.head()"
   ]
  },
  {
   "cell_type": "code",
   "execution_count": 23,
   "metadata": {},
   "outputs": [
    {
     "name": "stderr",
     "output_type": "stream",
     "text": [
      "INFO:fbprophet:Disabling yearly seasonality. Run prophet with yearly_seasonality=True to override this.\n",
      "c:\\users\\ddjra\\anaconda3\\envs\\ftxenv\\lib\\site-packages\\pystan\\misc.py:399: FutureWarning:\n",
      "\n",
      "Conversion of the second argument of issubdtype from `float` to `np.floating` is deprecated. In future, it will be treated as `np.float64 == np.dtype(float).type`.\n",
      "\n"
     ]
    },
    {
     "data": {
      "text/plain": [
       "<fbprophet.forecaster.Prophet at 0x263e9fc2208>"
      ]
     },
     "execution_count": 23,
     "metadata": {},
     "output_type": "execute_result"
    }
   ],
   "source": [
    "# Initialize Prophet object\n",
    "m = Prophet()\n",
    "m.fit(proph_df)"
   ]
  },
  {
   "cell_type": "code",
   "execution_count": 36,
   "metadata": {},
   "outputs": [
    {
     "data": {
      "text/html": [
       "<div>\n",
       "<style scoped>\n",
       "    .dataframe tbody tr th:only-of-type {\n",
       "        vertical-align: middle;\n",
       "    }\n",
       "\n",
       "    .dataframe tbody tr th {\n",
       "        vertical-align: top;\n",
       "    }\n",
       "\n",
       "    .dataframe thead th {\n",
       "        text-align: right;\n",
       "    }\n",
       "</style>\n",
       "<table border=\"1\" class=\"dataframe\">\n",
       "  <thead>\n",
       "    <tr style=\"text-align: right;\">\n",
       "      <th></th>\n",
       "      <th>ds</th>\n",
       "    </tr>\n",
       "  </thead>\n",
       "  <tbody>\n",
       "    <tr>\n",
       "      <th>66659</th>\n",
       "      <td>2020-04-19 20:20:00</td>\n",
       "    </tr>\n",
       "    <tr>\n",
       "      <th>66660</th>\n",
       "      <td>2020-04-20 20:20:00</td>\n",
       "    </tr>\n",
       "    <tr>\n",
       "      <th>66661</th>\n",
       "      <td>2020-04-21 20:20:00</td>\n",
       "    </tr>\n",
       "    <tr>\n",
       "      <th>66662</th>\n",
       "      <td>2020-04-22 20:20:00</td>\n",
       "    </tr>\n",
       "    <tr>\n",
       "      <th>66663</th>\n",
       "      <td>2020-04-23 20:20:00</td>\n",
       "    </tr>\n",
       "  </tbody>\n",
       "</table>\n",
       "</div>"
      ],
      "text/plain": [
       "                       ds\n",
       "66659 2020-04-19 20:20:00\n",
       "66660 2020-04-20 20:20:00\n",
       "66661 2020-04-21 20:20:00\n",
       "66662 2020-04-22 20:20:00\n",
       "66663 2020-04-23 20:20:00"
      ]
     },
     "execution_count": 36,
     "metadata": {},
     "output_type": "execute_result"
    }
   ],
   "source": [
    "future = m.make_future_dataframe(periods=30)\n",
    "future.tail()"
   ]
  },
  {
   "cell_type": "code",
   "execution_count": 37,
   "metadata": {},
   "outputs": [
    {
     "data": {
      "text/html": [
       "<div>\n",
       "<style scoped>\n",
       "    .dataframe tbody tr th:only-of-type {\n",
       "        vertical-align: middle;\n",
       "    }\n",
       "\n",
       "    .dataframe tbody tr th {\n",
       "        vertical-align: top;\n",
       "    }\n",
       "\n",
       "    .dataframe thead th {\n",
       "        text-align: right;\n",
       "    }\n",
       "</style>\n",
       "<table border=\"1\" class=\"dataframe\">\n",
       "  <thead>\n",
       "    <tr style=\"text-align: right;\">\n",
       "      <th></th>\n",
       "      <th>ds</th>\n",
       "      <th>yhat</th>\n",
       "      <th>yhat_lower</th>\n",
       "      <th>yhat_upper</th>\n",
       "    </tr>\n",
       "  </thead>\n",
       "  <tbody>\n",
       "    <tr>\n",
       "      <th>66659</th>\n",
       "      <td>2020-04-19 20:20:00</td>\n",
       "      <td>-1890.449701</td>\n",
       "      <td>-8596.438237</td>\n",
       "      <td>4027.405465</td>\n",
       "    </tr>\n",
       "    <tr>\n",
       "      <th>66660</th>\n",
       "      <td>2020-04-20 20:20:00</td>\n",
       "      <td>-1907.414020</td>\n",
       "      <td>-8859.820633</td>\n",
       "      <td>4466.777099</td>\n",
       "    </tr>\n",
       "    <tr>\n",
       "      <th>66661</th>\n",
       "      <td>2020-04-21 20:20:00</td>\n",
       "      <td>-1973.819366</td>\n",
       "      <td>-9456.065328</td>\n",
       "      <td>4585.077460</td>\n",
       "    </tr>\n",
       "    <tr>\n",
       "      <th>66662</th>\n",
       "      <td>2020-04-22 20:20:00</td>\n",
       "      <td>-2154.342881</td>\n",
       "      <td>-10131.381581</td>\n",
       "      <td>4808.767392</td>\n",
       "    </tr>\n",
       "    <tr>\n",
       "      <th>66663</th>\n",
       "      <td>2020-04-23 20:20:00</td>\n",
       "      <td>-2282.962619</td>\n",
       "      <td>-10629.508906</td>\n",
       "      <td>5200.271051</td>\n",
       "    </tr>\n",
       "  </tbody>\n",
       "</table>\n",
       "</div>"
      ],
      "text/plain": [
       "                       ds         yhat    yhat_lower   yhat_upper\n",
       "66659 2020-04-19 20:20:00 -1890.449701  -8596.438237  4027.405465\n",
       "66660 2020-04-20 20:20:00 -1907.414020  -8859.820633  4466.777099\n",
       "66661 2020-04-21 20:20:00 -1973.819366  -9456.065328  4585.077460\n",
       "66662 2020-04-22 20:20:00 -2154.342881 -10131.381581  4808.767392\n",
       "66663 2020-04-23 20:20:00 -2282.962619 -10629.508906  5200.271051"
      ]
     },
     "execution_count": 37,
     "metadata": {},
     "output_type": "execute_result"
    }
   ],
   "source": [
    "forecast = m.predict(future)\n",
    "forecast[['ds', 'yhat', 'yhat_lower', 'yhat_upper']].tail()"
   ]
  },
  {
   "cell_type": "code",
   "execution_count": 38,
   "metadata": {},
   "outputs": [
    {
     "data": {
      "image/png": "[encoded data removed]",
      "text/plain": [
       "<Figure size 720x432 with 1 Axes>"
      ]
     },
     "metadata": {},
     "output_type": "display_data"
    }
   ],
   "source": [
    "fig1 = m.plot(forecast)"
   ]
  },
  {
   "cell_type": "code",
   "execution_count": 55,
   "metadata": {},
   "outputs": [
    {
     "name": "stdout",
     "output_type": "stream",
     "text": [
      " Data Saved \n"
     ]
    }
   ],
   "source": [
    "# Save m object with pickle (rick)\n",
    "m.stan_backend.logger = None\n",
    "\n",
    "with open(\"./Prophet.pkl\", \"wb\") as f:\n",
    "    # Pickle the 'Prophet' model using the highest protocol available.\n",
    "    pickle.dump(m, f)\n",
    "\n",
    "# save the dataframe\n",
    "forecast.to_pickle(\"./forecast.pkl\")\n",
    "print(\" Data Saved \")"
   ]
  },
  {
   "cell_type": "code",
   "execution_count": 5,
   "metadata": {},
   "outputs": [],
   "source": [
    "# Load model file\n",
    "with open(\"./Prophet.pkl\", \"rb\") as f:\n",
    "    # Pickle the 'Prophet' model using the highest protocol available.\n",
    "    n = pickle.load(f)\n",
    "    \n",
    "with open(\"./forecast.pkl\", \"rb\") as f:\n",
    "    forecast = pickle.load(f)"
   ]
  },
  {
   "cell_type": "code",
   "execution_count": 57,
   "metadata": {},
   "outputs": [
    {
     "ename": "Exception",
     "evalue": "Prophet object can only be fit once. Instantiate a new object.",
     "output_type": "error",
     "traceback": [
      "\u001b[1;31m---------------------------------------------------------------------------\u001b[0m",
      "\u001b[1;31mException\u001b[0m                                 Traceback (most recent call last)",
      "\u001b[1;32m<ipython-input-57-d83d5e81f1d1>\u001b[0m in \u001b[0;36m<module>\u001b[1;34m\u001b[0m\n\u001b[1;32m----> 1\u001b[1;33m \u001b[0mn\u001b[0m\u001b[1;33m.\u001b[0m\u001b[0mfit\u001b[0m\u001b[1;33m(\u001b[0m\u001b[0mproph_df\u001b[0m\u001b[1;33m)\u001b[0m\u001b[1;33m\u001b[0m\u001b[1;33m\u001b[0m\u001b[0m\n\u001b[0m\u001b[0;32m      2\u001b[0m \u001b[0mfuture\u001b[0m \u001b[1;33m=\u001b[0m \u001b[0mn\u001b[0m\u001b[1;33m.\u001b[0m\u001b[0mmake_future_dataframe\u001b[0m\u001b[1;33m(\u001b[0m\u001b[0mperiods\u001b[0m\u001b[1;33m=\u001b[0m\u001b[1;36m30\u001b[0m\u001b[1;33m)\u001b[0m\u001b[1;33m\u001b[0m\u001b[1;33m\u001b[0m\u001b[0m\n\u001b[0;32m      3\u001b[0m \u001b[0mfuture\u001b[0m\u001b[1;33m.\u001b[0m\u001b[0mtail\u001b[0m\u001b[1;33m(\u001b[0m\u001b[1;33m)\u001b[0m\u001b[1;33m\u001b[0m\u001b[1;33m\u001b[0m\u001b[0m\n\u001b[0;32m      4\u001b[0m \u001b[1;33m\u001b[0m\u001b[0m\n\u001b[0;32m      5\u001b[0m \u001b[0mforecast\u001b[0m \u001b[1;33m=\u001b[0m \u001b[0mn\u001b[0m\u001b[1;33m.\u001b[0m\u001b[0mpredict\u001b[0m\u001b[1;33m(\u001b[0m\u001b[0mfuture\u001b[0m\u001b[1;33m)\u001b[0m\u001b[1;33m\u001b[0m\u001b[1;33m\u001b[0m\u001b[0m\n",
      "\u001b[1;32mc:\\users\\ddjra\\anaconda3\\envs\\ftxenv\\lib\\site-packages\\fbprophet\\forecaster.py\u001b[0m in \u001b[0;36mfit\u001b[1;34m(self, df, **kwargs)\u001b[0m\n\u001b[0;32m   1076\u001b[0m         \"\"\"\n\u001b[0;32m   1077\u001b[0m         \u001b[1;32mif\u001b[0m \u001b[0mself\u001b[0m\u001b[1;33m.\u001b[0m\u001b[0mhistory\u001b[0m \u001b[1;32mis\u001b[0m \u001b[1;32mnot\u001b[0m \u001b[1;32mNone\u001b[0m\u001b[1;33m:\u001b[0m\u001b[1;33m\u001b[0m\u001b[1;33m\u001b[0m\u001b[0m\n\u001b[1;32m-> 1078\u001b[1;33m             raise Exception('Prophet object can only be fit once. '\n\u001b[0m\u001b[0;32m   1079\u001b[0m                             'Instantiate a new object.')\n\u001b[0;32m   1080\u001b[0m         \u001b[1;32mif\u001b[0m \u001b[1;33m(\u001b[0m\u001b[1;34m'ds'\u001b[0m \u001b[1;32mnot\u001b[0m \u001b[1;32min\u001b[0m \u001b[0mdf\u001b[0m\u001b[1;33m)\u001b[0m \u001b[1;32mor\u001b[0m \u001b[1;33m(\u001b[0m\u001b[1;34m'y'\u001b[0m \u001b[1;32mnot\u001b[0m \u001b[1;32min\u001b[0m \u001b[0mdf\u001b[0m\u001b[1;33m)\u001b[0m\u001b[1;33m:\u001b[0m\u001b[1;33m\u001b[0m\u001b[1;33m\u001b[0m\u001b[0m\n",
      "\u001b[1;31mException\u001b[0m: Prophet object can only be fit once. Instantiate a new object."
     ]
    }
   ],
   "source": [
    "fig1 = m.plot(forecast)"
   ]
  },
  {
   "cell_type": "code",
   "execution_count": null,
   "metadata": {},
   "outputs": [],
   "source": []
  }
 ],
 "metadata": {
  "kernelspec": {
   "display_name": "Python 3",
   "language": "python",
   "name": "python3"
  },
  "language_info": {
   "codemirror_mode": {
    "name": "ipython",
    "version": 3
   },
   "file_extension": ".py",
   "mimetype": "text/x-python",
   "name": "python",
   "nbconvert_exporter": "python",
   "pygments_lexer": "ipython3",
   "version": "3.6.10"
  }
 },
 "nbformat": 4,
 "nbformat_minor": 4
}
