{
 "cells": [
  {
   "cell_type": "code",
   "execution_count": 83,
   "metadata": {},
   "outputs": [],
   "source": [
    "import pandas as pd\n",
    "import numpy as np\n",
    "import matplotlib.pyplot as plt"
   ]
  },
  {
   "cell_type": "code",
   "execution_count": 84,
   "metadata": {},
   "outputs": [
    {
     "data": {
      "text/html": [
       "<div>\n",
       "<style scoped>\n",
       "    .dataframe tbody tr th:only-of-type {\n",
       "        vertical-align: middle;\n",
       "    }\n",
       "\n",
       "    .dataframe tbody tr th {\n",
       "        vertical-align: top;\n",
       "    }\n",
       "\n",
       "    .dataframe thead th {\n",
       "        text-align: right;\n",
       "    }\n",
       "</style>\n",
       "<table border=\"1\" class=\"dataframe\">\n",
       "  <thead>\n",
       "    <tr style=\"text-align: right;\">\n",
       "      <th></th>\n",
       "      <th>close</th>\n",
       "      <th>high</th>\n",
       "      <th>low</th>\n",
       "      <th>open</th>\n",
       "      <th>time</th>\n",
       "      <th>volume</th>\n",
       "      <th>avg</th>\n",
       "    </tr>\n",
       "  </thead>\n",
       "  <tbody>\n",
       "    <tr>\n",
       "      <th>count</th>\n",
       "      <td>66634.000000</td>\n",
       "      <td>66634.000000</td>\n",
       "      <td>66634.000000</td>\n",
       "      <td>66634.000000</td>\n",
       "      <td>6.663400e+04</td>\n",
       "      <td>66634.000000</td>\n",
       "      <td>66634.000000</td>\n",
       "    </tr>\n",
       "    <tr>\n",
       "      <th>mean</th>\n",
       "      <td>2164.675160</td>\n",
       "      <td>2172.157180</td>\n",
       "      <td>2157.222371</td>\n",
       "      <td>2164.814040</td>\n",
       "      <td>1.575084e+12</td>\n",
       "      <td>246.630589</td>\n",
       "      <td>2164.744600</td>\n",
       "    </tr>\n",
       "    <tr>\n",
       "      <th>std</th>\n",
       "      <td>1632.501927</td>\n",
       "      <td>1637.489664</td>\n",
       "      <td>1627.691797</td>\n",
       "      <td>1632.735182</td>\n",
       "      <td>5.772850e+09</td>\n",
       "      <td>4306.713785</td>\n",
       "      <td>1632.592313</td>\n",
       "    </tr>\n",
       "    <tr>\n",
       "      <th>min</th>\n",
       "      <td>37.700000</td>\n",
       "      <td>43.810000</td>\n",
       "      <td>34.980000</td>\n",
       "      <td>38.680000</td>\n",
       "      <td>1.565086e+12</td>\n",
       "      <td>0.000000</td>\n",
       "      <td>41.145000</td>\n",
       "    </tr>\n",
       "    <tr>\n",
       "      <th>25%</th>\n",
       "      <td>927.500000</td>\n",
       "      <td>930.250000</td>\n",
       "      <td>924.500000</td>\n",
       "      <td>927.500000</td>\n",
       "      <td>1.570083e+12</td>\n",
       "      <td>0.000000</td>\n",
       "      <td>927.250000</td>\n",
       "    </tr>\n",
       "    <tr>\n",
       "      <th>50%</th>\n",
       "      <td>2030.500000</td>\n",
       "      <td>2039.000000</td>\n",
       "      <td>2024.000000</td>\n",
       "      <td>2030.500000</td>\n",
       "      <td>1.575086e+12</td>\n",
       "      <td>0.000000</td>\n",
       "      <td>2031.000000</td>\n",
       "    </tr>\n",
       "    <tr>\n",
       "      <th>75%</th>\n",
       "      <td>2873.750000</td>\n",
       "      <td>2887.000000</td>\n",
       "      <td>2860.000000</td>\n",
       "      <td>2873.000000</td>\n",
       "      <td>1.580083e+12</td>\n",
       "      <td>0.000000</td>\n",
       "      <td>2874.500000</td>\n",
       "    </tr>\n",
       "    <tr>\n",
       "      <th>max</th>\n",
       "      <td>10047.500000</td>\n",
       "      <td>10077.500000</td>\n",
       "      <td>9937.500000</td>\n",
       "      <td>10047.500000</td>\n",
       "      <td>1.585081e+12</td>\n",
       "      <td>608227.824400</td>\n",
       "      <td>10000.000000</td>\n",
       "    </tr>\n",
       "  </tbody>\n",
       "</table>\n",
       "</div>"
      ],
      "text/plain": [
       "              close          high           low          open          time  \\\n",
       "count  66634.000000  66634.000000  66634.000000  66634.000000  6.663400e+04   \n",
       "mean    2164.675160   2172.157180   2157.222371   2164.814040  1.575084e+12   \n",
       "std     1632.501927   1637.489664   1627.691797   1632.735182  5.772850e+09   \n",
       "min       37.700000     43.810000     34.980000     38.680000  1.565086e+12   \n",
       "25%      927.500000    930.250000    924.500000    927.500000  1.570083e+12   \n",
       "50%     2030.500000   2039.000000   2024.000000   2030.500000  1.575086e+12   \n",
       "75%     2873.750000   2887.000000   2860.000000   2873.000000  1.580083e+12   \n",
       "max    10047.500000  10077.500000   9937.500000  10047.500000  1.585081e+12   \n",
       "\n",
       "              volume           avg  \n",
       "count   66634.000000  66634.000000  \n",
       "mean      246.630589   2164.744600  \n",
       "std      4306.713785   1632.592313  \n",
       "min         0.000000     41.145000  \n",
       "25%         0.000000    927.250000  \n",
       "50%         0.000000   2031.000000  \n",
       "75%         0.000000   2874.500000  \n",
       "max    608227.824400  10000.000000  "
      ]
     },
     "execution_count": 84,
     "metadata": {},
     "output_type": "execute_result"
    }
   ],
   "source": [
    "trade_data = pd.read_csv('ETHBULL-USD-historical.csv')\n",
    "trade_data.describe()"
   ]
  },
  {
   "cell_type": "code",
   "execution_count": 85,
   "metadata": {},
   "outputs": [],
   "source": [
    "max_trade_data = trade_data[['close','high','low','open']].rolling(20).max()\n",
    "max_trade_data = max_trade_data.shift(periods=-20)\n",
    "max_trade_data['change']=0"
   ]
  },
  {
   "cell_type": "code",
   "execution_count": 86,
   "metadata": {},
   "outputs": [],
   "source": [
    "trade_data = trade_data[:-20]\n",
    "max_trade_data = max_trade_data[:-20]"
   ]
  },
  {
   "cell_type": "code",
   "execution_count": 87,
   "metadata": {},
   "outputs": [],
   "source": [
    "max_trade_data.loc[max_trade_data['close'] > trade_data['close'],'change']=1\n",
    "max_trade_data.loc[max_trade_data['close'] < trade_data['close'],'change']=-1"
   ]
  },
  {
   "cell_type": "code",
   "execution_count": 82,
   "metadata": {},
   "outputs": [],
   "source": [
    "trade_data['change']=max_trade_data['change']"
   ]
  },
  {
   "cell_type": "code",
   "execution_count": 60,
   "metadata": {},
   "outputs": [],
   "source": [
    "trade_data['close_slope'] = trade_data['close'].diff()\n",
    "\n",
    "trade_data['ema_26']=pd.Series.ewm(trade_data['close'],span=26).mean()\n",
    "trade_data['ema_26_slope'] = trade_data['ema_26'].diff()\n",
    "trade_data['std_26']=trade_data['close'].rolling(26).std()\n",
    "trade_data['std_26_slope'] = trade_data['std_26'].diff()\n",
    "\n",
    "trade_data['ema_9']=pd.Series.ewm(trade_data['close'],span=9).mean()\n",
    "trade_data['ema_9_slope'] = trade_data['ema_9'].diff()\n",
    "trade_data['std_9']=trade_data['close'].rolling(9).std()\n",
    "trade_data['std_9_slope'] = trade_data['std_9'].diff()\n",
    "\n",
    "trade_data['ema_20']=pd.Series.ewm(trade_data['close'],span=9).mean()\n",
    "trade_data['ema_20_slope'] = trade_data['ema_20'].diff()\n",
    "trade_data['std_20']=trade_data['close'].rolling(20).std()\n",
    "trade_data['std_20_slope'] = trade_data['std_20'].diff()"
   ]
  },
  {
   "cell_type": "code",
   "execution_count": 73,
   "metadata": {},
   "outputs": [],
   "source": [
    "trade_data = trade_data[25:]"
   ]
  },
  {
   "cell_type": "code",
   "execution_count": 75,
   "metadata": {},
   "outputs": [],
   "source": [
    "trade_data_target = trade_data['change']\n",
    "trade_data_features = trade_data.drop(['change'],axis=1)"
   ]
  },
  {
   "cell_type": "code",
   "execution_count": null,
   "metadata": {},
   "outputs": [],
   "source": []
  }
 ],
 "metadata": {
  "kernelspec": {
   "display_name": "Python 3",
   "language": "python",
   "name": "python3"
  },
  "language_info": {
   "codemirror_mode": {
    "name": "ipython",
    "version": 3
   },
   "file_extension": ".py",
   "mimetype": "text/x-python",
   "name": "python",
   "nbconvert_exporter": "python",
   "pygments_lexer": "ipython3",
   "version": "3.7.3"
  }
 },
 "nbformat": 4,
 "nbformat_minor": 2
}
