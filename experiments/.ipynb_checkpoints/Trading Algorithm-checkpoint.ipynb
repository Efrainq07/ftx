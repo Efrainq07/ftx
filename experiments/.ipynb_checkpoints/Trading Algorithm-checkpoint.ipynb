{
 "cells": [
  {
   "cell_type": "markdown",
   "metadata": {},
   "source": [
    "## Trading Algorithm XGBoost"
   ]
  },
  {
   "cell_type": "markdown",
   "metadata": {},
   "source": [
    "*Import essential libraries.*"
   ]
  },
  {
   "cell_type": "code",
   "execution_count": 1,
   "metadata": {},
   "outputs": [],
   "source": [
    "import pandas as pd\n",
    "import numpy as np\n",
    "import matplotlib.pyplot as plt"
   ]
  },
  {
   "cell_type": "markdown",
   "metadata": {},
   "source": [
    "### Data Preprocessing"
   ]
  },
  {
   "cell_type": "markdown",
   "metadata": {},
   "source": [
    "*Import dataset of historical prices.*"
   ]
  },
  {
   "cell_type": "code",
   "execution_count": 2,
   "metadata": {},
   "outputs": [
    {
     "data": {
      "text/html": [
       "<div>\n",
       "<style scoped>\n",
       "    .dataframe tbody tr th:only-of-type {\n",
       "        vertical-align: middle;\n",
       "    }\n",
       "\n",
       "    .dataframe tbody tr th {\n",
       "        vertical-align: top;\n",
       "    }\n",
       "\n",
       "    .dataframe thead th {\n",
       "        text-align: right;\n",
       "    }\n",
       "</style>\n",
       "<table border=\"1\" class=\"dataframe\">\n",
       "  <thead>\n",
       "    <tr style=\"text-align: right;\">\n",
       "      <th></th>\n",
       "      <th>close</th>\n",
       "      <th>high</th>\n",
       "      <th>low</th>\n",
       "      <th>open</th>\n",
       "      <th>time</th>\n",
       "      <th>volume</th>\n",
       "      <th>avg</th>\n",
       "    </tr>\n",
       "  </thead>\n",
       "  <tbody>\n",
       "    <tr>\n",
       "      <th>count</th>\n",
       "      <td>66634.000000</td>\n",
       "      <td>66634.000000</td>\n",
       "      <td>66634.000000</td>\n",
       "      <td>66634.000000</td>\n",
       "      <td>6.663400e+04</td>\n",
       "      <td>66634.000000</td>\n",
       "      <td>66634.000000</td>\n",
       "    </tr>\n",
       "    <tr>\n",
       "      <th>mean</th>\n",
       "      <td>2164.675160</td>\n",
       "      <td>2172.157180</td>\n",
       "      <td>2157.222371</td>\n",
       "      <td>2164.814040</td>\n",
       "      <td>1.575084e+12</td>\n",
       "      <td>246.630589</td>\n",
       "      <td>2164.744600</td>\n",
       "    </tr>\n",
       "    <tr>\n",
       "      <th>std</th>\n",
       "      <td>1632.501927</td>\n",
       "      <td>1637.489664</td>\n",
       "      <td>1627.691797</td>\n",
       "      <td>1632.735182</td>\n",
       "      <td>5.772850e+09</td>\n",
       "      <td>4306.713785</td>\n",
       "      <td>1632.592313</td>\n",
       "    </tr>\n",
       "    <tr>\n",
       "      <th>min</th>\n",
       "      <td>37.700000</td>\n",
       "      <td>43.810000</td>\n",
       "      <td>34.980000</td>\n",
       "      <td>38.680000</td>\n",
       "      <td>1.565086e+12</td>\n",
       "      <td>0.000000</td>\n",
       "      <td>41.145000</td>\n",
       "    </tr>\n",
       "    <tr>\n",
       "      <th>25%</th>\n",
       "      <td>927.500000</td>\n",
       "      <td>930.250000</td>\n",
       "      <td>924.500000</td>\n",
       "      <td>927.500000</td>\n",
       "      <td>1.570083e+12</td>\n",
       "      <td>0.000000</td>\n",
       "      <td>927.250000</td>\n",
       "    </tr>\n",
       "    <tr>\n",
       "      <th>50%</th>\n",
       "      <td>2030.500000</td>\n",
       "      <td>2039.000000</td>\n",
       "      <td>2024.000000</td>\n",
       "      <td>2030.500000</td>\n",
       "      <td>1.575086e+12</td>\n",
       "      <td>0.000000</td>\n",
       "      <td>2031.000000</td>\n",
       "    </tr>\n",
       "    <tr>\n",
       "      <th>75%</th>\n",
       "      <td>2873.750000</td>\n",
       "      <td>2887.000000</td>\n",
       "      <td>2860.000000</td>\n",
       "      <td>2873.000000</td>\n",
       "      <td>1.580083e+12</td>\n",
       "      <td>0.000000</td>\n",
       "      <td>2874.500000</td>\n",
       "    </tr>\n",
       "    <tr>\n",
       "      <th>max</th>\n",
       "      <td>10047.500000</td>\n",
       "      <td>10077.500000</td>\n",
       "      <td>9937.500000</td>\n",
       "      <td>10047.500000</td>\n",
       "      <td>1.585081e+12</td>\n",
       "      <td>608227.824400</td>\n",
       "      <td>10000.000000</td>\n",
       "    </tr>\n",
       "  </tbody>\n",
       "</table>\n",
       "</div>"
      ],
      "text/plain": [
       "              close          high           low          open          time  \\\n",
       "count  66634.000000  66634.000000  66634.000000  66634.000000  6.663400e+04   \n",
       "mean    2164.675160   2172.157180   2157.222371   2164.814040  1.575084e+12   \n",
       "std     1632.501927   1637.489664   1627.691797   1632.735182  5.772850e+09   \n",
       "min       37.700000     43.810000     34.980000     38.680000  1.565086e+12   \n",
       "25%      927.500000    930.250000    924.500000    927.500000  1.570083e+12   \n",
       "50%     2030.500000   2039.000000   2024.000000   2030.500000  1.575086e+12   \n",
       "75%     2873.750000   2887.000000   2860.000000   2873.000000  1.580083e+12   \n",
       "max    10047.500000  10077.500000   9937.500000  10047.500000  1.585081e+12   \n",
       "\n",
       "              volume           avg  \n",
       "count   66634.000000  66634.000000  \n",
       "mean      246.630589   2164.744600  \n",
       "std      4306.713785   1632.592313  \n",
       "min         0.000000     41.145000  \n",
       "25%         0.000000    927.250000  \n",
       "50%         0.000000   2031.000000  \n",
       "75%         0.000000   2874.500000  \n",
       "max    608227.824400  10000.000000  "
      ]
     },
     "execution_count": 2,
     "metadata": {},
     "output_type": "execute_result"
    }
   ],
   "source": [
    "trade_data = pd.read_csv('ETHBULL-USD-historical.csv')\n",
    "trade_data.describe()"
   ]
  },
  {
   "cell_type": "markdown",
   "metadata": {},
   "source": [
    "*Make max_trade_data, a dataframe that contains the maximum value of the next 20 closing prices for each row. Also, the 'change' columns is initialized.*"
   ]
  },
  {
   "cell_type": "code",
   "execution_count": 3,
   "metadata": {},
   "outputs": [],
   "source": [
    "max_trade_data = trade_data[['close','high','low','open']].rolling(20).max()\n",
    "max_trade_data = max_trade_data.shift(periods=-20)\n",
    "max_trade_data['change']=0"
   ]
  },
  {
   "cell_type": "markdown",
   "metadata": {},
   "source": [
    "*Delete last 20 rows as the rolling makes them NaN.*"
   ]
  },
  {
   "cell_type": "code",
   "execution_count": 4,
   "metadata": {},
   "outputs": [],
   "source": [
    "trade_data = trade_data[:-20]\n",
    "max_trade_data = max_trade_data[:-20]"
   ]
  },
  {
   "cell_type": "markdown",
   "metadata": {},
   "source": [
    "*Assign 1 in the 'change' column for rows that have a max_trade_data 'close' value larger than the trade_data 'close', and viceversa for -1. This is done in such a way that the value of 'change' is 1 if the closing value increased in the next 20 rows, it's -1 if the closing value decreased and 0 if it reached the same value.*"
   ]
  },
  {
   "cell_type": "code",
   "execution_count": 5,
   "metadata": {},
   "outputs": [],
   "source": [
    "max_trade_data.loc[max_trade_data['close'] > trade_data['close'],'change']=1\n",
    "max_trade_data.loc[max_trade_data['close'] < trade_data['close'],'change']=-1"
   ]
  },
  {
   "cell_type": "code",
   "execution_count": 6,
   "metadata": {},
   "outputs": [],
   "source": [
    "trade_data['change']=max_trade_data['change']"
   ]
  },
  {
   "cell_type": "markdown",
   "metadata": {},
   "source": [
    "*Make indicators*"
   ]
  },
  {
   "cell_type": "code",
   "execution_count": 7,
   "metadata": {},
   "outputs": [],
   "source": [
    "trade_data['close_slope'] = trade_data['close'].diff()\n",
    "\n",
    "trade_data['ema_26']=pd.Series.ewm(trade_data['close'],span=26).mean()\n",
    "trade_data['ema_26_slope'] = trade_data['ema_26'].diff()\n",
    "trade_data['std_26']=trade_data['close'].rolling(26).std()\n",
    "trade_data['std_26_slope'] = trade_data['std_26'].diff()\n",
    "\n",
    "trade_data['ema_9']=pd.Series.ewm(trade_data['close'],span=9).mean()\n",
    "trade_data['ema_9_slope'] = trade_data['ema_9'].diff()\n",
    "trade_data['std_9']=trade_data['close'].rolling(9).std()\n",
    "trade_data['std_9_slope'] = trade_data['std_9'].diff()\n",
    "\n",
    "trade_data['ema_20']=pd.Series.ewm(trade_data['close'],span=9).mean()\n",
    "trade_data['ema_20_slope'] = trade_data['ema_20'].diff()\n",
    "trade_data['std_20']=trade_data['close'].rolling(20).std()\n",
    "trade_data['std_20_slope'] = trade_data['std_20'].diff()"
   ]
  },
  {
   "cell_type": "markdown",
   "metadata": {},
   "source": [
    "Delete the first 26 rows as they are NaN."
   ]
  },
  {
   "cell_type": "code",
   "execution_count": 8,
   "metadata": {},
   "outputs": [],
   "source": [
    "trade_data = trade_data[26:]"
   ]
  },
  {
   "cell_type": "markdown",
   "metadata": {},
   "source": [
    "*Divide into target and features*"
   ]
  },
  {
   "cell_type": "code",
   "execution_count": 9,
   "metadata": {},
   "outputs": [],
   "source": [
    "trade_data_target = trade_data['change']\n",
    "trade_data_features = trade_data.drop(['change'],axis=1)"
   ]
  },
  {
   "cell_type": "code",
   "execution_count": 10,
   "metadata": {},
   "outputs": [
    {
     "data": {
      "text/html": [
       "<div>\n",
       "<style scoped>\n",
       "    .dataframe tbody tr th:only-of-type {\n",
       "        vertical-align: middle;\n",
       "    }\n",
       "\n",
       "    .dataframe tbody tr th {\n",
       "        vertical-align: top;\n",
       "    }\n",
       "\n",
       "    .dataframe thead th {\n",
       "        text-align: right;\n",
       "    }\n",
       "</style>\n",
       "<table border=\"1\" class=\"dataframe\">\n",
       "  <thead>\n",
       "    <tr style=\"text-align: right;\">\n",
       "      <th></th>\n",
       "      <th>close</th>\n",
       "      <th>high</th>\n",
       "      <th>low</th>\n",
       "      <th>open</th>\n",
       "      <th>startTime</th>\n",
       "      <th>time</th>\n",
       "      <th>volume</th>\n",
       "      <th>avg</th>\n",
       "      <th>close_slope</th>\n",
       "      <th>ema_26</th>\n",
       "      <th>...</th>\n",
       "      <th>std_26</th>\n",
       "      <th>std_26_slope</th>\n",
       "      <th>ema_9</th>\n",
       "      <th>ema_9_slope</th>\n",
       "      <th>std_9</th>\n",
       "      <th>std_9_slope</th>\n",
       "      <th>ema_20</th>\n",
       "      <th>ema_20_slope</th>\n",
       "      <th>std_20</th>\n",
       "      <th>std_20_slope</th>\n",
       "    </tr>\n",
       "  </thead>\n",
       "  <tbody>\n",
       "    <tr>\n",
       "      <th>26</th>\n",
       "      <td>8867.5</td>\n",
       "      <td>8875.0</td>\n",
       "      <td>8785.0</td>\n",
       "      <td>8832.5</td>\n",
       "      <td>2019-08-06T12:10:00+00:00</td>\n",
       "      <td>1.565093e+12</td>\n",
       "      <td>0.0</td>\n",
       "      <td>8850.0</td>\n",
       "      <td>35.0</td>\n",
       "      <td>9048.948352</td>\n",
       "      <td>...</td>\n",
       "      <td>378.682128</td>\n",
       "      <td>-15.459540</td>\n",
       "      <td>8923.205288</td>\n",
       "      <td>-13.968539</td>\n",
       "      <td>78.708102</td>\n",
       "      <td>-7.614332</td>\n",
       "      <td>8923.205288</td>\n",
       "      <td>-13.968539</td>\n",
       "      <td>113.863015</td>\n",
       "      <td>4.044085</td>\n",
       "    </tr>\n",
       "    <tr>\n",
       "      <th>27</th>\n",
       "      <td>8912.5</td>\n",
       "      <td>8937.5</td>\n",
       "      <td>8860.0</td>\n",
       "      <td>8867.5</td>\n",
       "      <td>2019-08-06T12:15:00+00:00</td>\n",
       "      <td>1.565094e+12</td>\n",
       "      <td>0.0</td>\n",
       "      <td>8890.0</td>\n",
       "      <td>45.0</td>\n",
       "      <td>9037.515888</td>\n",
       "      <td>...</td>\n",
       "      <td>347.827765</td>\n",
       "      <td>-30.854363</td>\n",
       "      <td>8921.060081</td>\n",
       "      <td>-2.145207</td>\n",
       "      <td>57.605579</td>\n",
       "      <td>-21.102522</td>\n",
       "      <td>8921.060081</td>\n",
       "      <td>-2.145207</td>\n",
       "      <td>99.980590</td>\n",
       "      <td>-13.882425</td>\n",
       "    </tr>\n",
       "    <tr>\n",
       "      <th>28</th>\n",
       "      <td>8917.5</td>\n",
       "      <td>8940.0</td>\n",
       "      <td>8910.0</td>\n",
       "      <td>8912.5</td>\n",
       "      <td>2019-08-06T12:20:00+00:00</td>\n",
       "      <td>1.565094e+12</td>\n",
       "      <td>0.0</td>\n",
       "      <td>8915.0</td>\n",
       "      <td>5.0</td>\n",
       "      <td>9027.556954</td>\n",
       "      <td>...</td>\n",
       "      <td>297.213469</td>\n",
       "      <td>-50.614296</td>\n",
       "      <td>8920.346961</td>\n",
       "      <td>-0.713120</td>\n",
       "      <td>41.570723</td>\n",
       "      <td>-16.034857</td>\n",
       "      <td>8920.346961</td>\n",
       "      <td>-0.713120</td>\n",
       "      <td>86.109630</td>\n",
       "      <td>-13.870960</td>\n",
       "    </tr>\n",
       "    <tr>\n",
       "      <th>29</th>\n",
       "      <td>8877.5</td>\n",
       "      <td>8937.5</td>\n",
       "      <td>8875.0</td>\n",
       "      <td>8917.5</td>\n",
       "      <td>2019-08-06T12:25:00+00:00</td>\n",
       "      <td>1.565094e+12</td>\n",
       "      <td>0.0</td>\n",
       "      <td>8897.5</td>\n",
       "      <td>-40.0</td>\n",
       "      <td>9015.215126</td>\n",
       "      <td>...</td>\n",
       "      <td>251.483292</td>\n",
       "      <td>-45.730177</td>\n",
       "      <td>8911.766948</td>\n",
       "      <td>-8.580014</td>\n",
       "      <td>37.578621</td>\n",
       "      <td>-3.992102</td>\n",
       "      <td>8911.766948</td>\n",
       "      <td>-8.580014</td>\n",
       "      <td>87.043830</td>\n",
       "      <td>0.934199</td>\n",
       "    </tr>\n",
       "    <tr>\n",
       "      <th>30</th>\n",
       "      <td>8837.5</td>\n",
       "      <td>8920.0</td>\n",
       "      <td>8837.5</td>\n",
       "      <td>8877.5</td>\n",
       "      <td>2019-08-06T12:30:00+00:00</td>\n",
       "      <td>1.565095e+12</td>\n",
       "      <td>0.0</td>\n",
       "      <td>8857.5</td>\n",
       "      <td>-40.0</td>\n",
       "      <td>9000.716981</td>\n",
       "      <td>...</td>\n",
       "      <td>199.246103</td>\n",
       "      <td>-52.237189</td>\n",
       "      <td>8896.898833</td>\n",
       "      <td>-14.868114</td>\n",
       "      <td>39.747467</td>\n",
       "      <td>2.168845</td>\n",
       "      <td>8896.898833</td>\n",
       "      <td>-14.868114</td>\n",
       "      <td>87.777661</td>\n",
       "      <td>0.733831</td>\n",
       "    </tr>\n",
       "  </tbody>\n",
       "</table>\n",
       "<p>5 rows × 21 columns</p>\n",
       "</div>"
      ],
      "text/plain": [
       "     close    high     low    open                  startTime          time  \\\n",
       "26  8867.5  8875.0  8785.0  8832.5  2019-08-06T12:10:00+00:00  1.565093e+12   \n",
       "27  8912.5  8937.5  8860.0  8867.5  2019-08-06T12:15:00+00:00  1.565094e+12   \n",
       "28  8917.5  8940.0  8910.0  8912.5  2019-08-06T12:20:00+00:00  1.565094e+12   \n",
       "29  8877.5  8937.5  8875.0  8917.5  2019-08-06T12:25:00+00:00  1.565094e+12   \n",
       "30  8837.5  8920.0  8837.5  8877.5  2019-08-06T12:30:00+00:00  1.565095e+12   \n",
       "\n",
       "    volume     avg  close_slope       ema_26  ...      std_26  std_26_slope  \\\n",
       "26     0.0  8850.0         35.0  9048.948352  ...  378.682128    -15.459540   \n",
       "27     0.0  8890.0         45.0  9037.515888  ...  347.827765    -30.854363   \n",
       "28     0.0  8915.0          5.0  9027.556954  ...  297.213469    -50.614296   \n",
       "29     0.0  8897.5        -40.0  9015.215126  ...  251.483292    -45.730177   \n",
       "30     0.0  8857.5        -40.0  9000.716981  ...  199.246103    -52.237189   \n",
       "\n",
       "          ema_9  ema_9_slope      std_9  std_9_slope       ema_20  \\\n",
       "26  8923.205288   -13.968539  78.708102    -7.614332  8923.205288   \n",
       "27  8921.060081    -2.145207  57.605579   -21.102522  8921.060081   \n",
       "28  8920.346961    -0.713120  41.570723   -16.034857  8920.346961   \n",
       "29  8911.766948    -8.580014  37.578621    -3.992102  8911.766948   \n",
       "30  8896.898833   -14.868114  39.747467     2.168845  8896.898833   \n",
       "\n",
       "    ema_20_slope      std_20  std_20_slope  \n",
       "26    -13.968539  113.863015      4.044085  \n",
       "27     -2.145207   99.980590    -13.882425  \n",
       "28     -0.713120   86.109630    -13.870960  \n",
       "29     -8.580014   87.043830      0.934199  \n",
       "30    -14.868114   87.777661      0.733831  \n",
       "\n",
       "[5 rows x 21 columns]"
      ]
     },
     "execution_count": 10,
     "metadata": {},
     "output_type": "execute_result"
    }
   ],
   "source": [
    "trade_data_features.head()"
   ]
  },
  {
   "cell_type": "markdown",
   "metadata": {},
   "source": [
    "*Drop datetime column not adequate for xgboost*"
   ]
  },
  {
   "cell_type": "code",
   "execution_count": 11,
   "metadata": {},
   "outputs": [],
   "source": [
    "trade_data_features = trade_data_features.drop(['startTime'],axis=1)"
   ]
  },
  {
   "cell_type": "markdown",
   "metadata": {},
   "source": [
    "### Model Training"
   ]
  },
  {
   "cell_type": "code",
   "execution_count": 12,
   "metadata": {},
   "outputs": [],
   "source": [
    "import xgboost as xgb\n",
    "from sklearn.model_selection import train_test_split"
   ]
  },
  {
   "cell_type": "markdown",
   "metadata": {},
   "source": [
    "*Divide dataset into train and test data.*"
   ]
  },
  {
   "cell_type": "code",
   "execution_count": 13,
   "metadata": {},
   "outputs": [],
   "source": [
    "X_train, X_test, y_train, y_test = train_test_split(trade_data_features, trade_data_target, test_size=0.33, random_state=42)"
   ]
  },
  {
   "cell_type": "code",
   "execution_count": 14,
   "metadata": {},
   "outputs": [],
   "source": [
    "X_train_t,X_test_t,y_train_t,y_test_t = trade_data_features[:44000],trade_data_features[44000:],trade_data_target[:44000],trade_data_target[44000:]"
   ]
  },
  {
   "cell_type": "markdown",
   "metadata": {},
   "source": [
    "*Initialize xgboost model*"
   ]
  },
  {
   "cell_type": "code",
   "execution_count": 15,
   "metadata": {},
   "outputs": [],
   "source": [
    "model=xgb.XGBClassifier(random_state=1,learning_rate=0.01)\n",
    "model_t = xgb.XGBClassifier(random_state=1,learning_rate=0.01, scale_pos_weight=99)"
   ]
  },
  {
   "cell_type": "markdown",
   "metadata": {},
   "source": [
    "*Train xgboost model.*"
   ]
  },
  {
   "cell_type": "code",
   "execution_count": 16,
   "metadata": {},
   "outputs": [
    {
     "data": {
      "text/plain": [
       "XGBClassifier(base_score=0.5, booster=None, colsample_bylevel=1,\n",
       "              colsample_bynode=1, colsample_bytree=1, gamma=0, gpu_id=-1,\n",
       "              importance_type='gain', interaction_constraints=None,\n",
       "              learning_rate=0.01, max_delta_step=0, max_depth=6,\n",
       "              min_child_weight=1, missing=nan, monotone_constraints=None,\n",
       "              n_estimators=100, n_jobs=0, num_parallel_tree=1,\n",
       "              objective='multi:softprob', random_state=1, reg_alpha=0,\n",
       "              reg_lambda=1, scale_pos_weight=None, subsample=1,\n",
       "              tree_method=None, validate_parameters=False, verbosity=None)"
      ]
     },
     "execution_count": 16,
     "metadata": {},
     "output_type": "execute_result"
    }
   ],
   "source": [
    "model.fit(X_train,y_train)"
   ]
  },
  {
   "cell_type": "code",
   "execution_count": 17,
   "metadata": {},
   "outputs": [
    {
     "data": {
      "text/plain": [
       "XGBClassifier(base_score=0.5, booster=None, colsample_bylevel=1,\n",
       "              colsample_bynode=1, colsample_bytree=1, gamma=0, gpu_id=-1,\n",
       "              importance_type='gain', interaction_constraints=None,\n",
       "              learning_rate=0.01, max_delta_step=0, max_depth=6,\n",
       "              min_child_weight=1, missing=nan, monotone_constraints=None,\n",
       "              n_estimators=100, n_jobs=0, num_parallel_tree=1,\n",
       "              objective='multi:softprob', random_state=1, reg_alpha=0,\n",
       "              reg_lambda=1, scale_pos_weight=99, subsample=1, tree_method=None,\n",
       "              validate_parameters=False, verbosity=None)"
      ]
     },
     "execution_count": 17,
     "metadata": {},
     "output_type": "execute_result"
    }
   ],
   "source": [
    "X_train_t = X_train_t[['avg', 'close_slope', 'ema_26_slope', 'ema_9']]\n",
    "\n",
    "model_t.fit(X_train_t,y_train_t)"
   ]
  },
  {
   "cell_type": "code",
   "execution_count": 18,
   "metadata": {
    "scrolled": true
   },
   "outputs": [
    {
     "data": {
      "text/plain": [
       "0.8558816837315131"
      ]
     },
     "execution_count": 18,
     "metadata": {},
     "output_type": "execute_result"
    }
   ],
   "source": [
    "model.score(X_test,y_test)"
   ]
  },
  {
   "cell_type": "code",
   "execution_count": 20,
   "metadata": {},
   "outputs": [
    {
     "data": {
      "text/plain": [
       "0.8586417566849655"
      ]
     },
     "execution_count": 20,
     "metadata": {},
     "output_type": "execute_result"
    }
   ],
   "source": [
    "model_t.score(X_test_t[['avg', 'close_slope', 'ema_26_slope', 'ema_9']],y_test_t)"
   ]
  },
  {
   "cell_type": "code",
   "execution_count": 21,
   "metadata": {},
   "outputs": [
    {
     "data": {
      "text/plain": [
       " 1    56865\n",
       "-1     8249\n",
       " 0     1474\n",
       "Name: change, dtype: int64"
      ]
     },
     "execution_count": 21,
     "metadata": {},
     "output_type": "execute_result"
    }
   ],
   "source": [
    "trade_data_target.value_counts()"
   ]
  },
  {
   "cell_type": "code",
   "execution_count": 22,
   "metadata": {},
   "outputs": [],
   "source": [
    "new_y_train = y_train[y_train==1][:5573]\n",
    "new_X_train = X_train[y_train==1][:5573]"
   ]
  },
  {
   "cell_type": "code",
   "execution_count": 23,
   "metadata": {},
   "outputs": [],
   "source": [
    "new_y_train = pd.concat([y_train[y_train!=1],new_y_train])\n",
    "new_X_train = pd.concat([X_train[y_train!=1],new_X_train])"
   ]
  },
  {
   "cell_type": "code",
   "execution_count": 24,
   "metadata": {},
   "outputs": [],
   "source": [
    "model_new = xgb.XGBClassifier(random_state=1,learning_rate=0.01)"
   ]
  },
  {
   "cell_type": "code",
   "execution_count": 25,
   "metadata": {},
   "outputs": [],
   "source": [
    "new_X_train = new_X_train[['avg', 'close_slope', 'ema_26_slope', 'ema_9']]"
   ]
  },
  {
   "cell_type": "code",
   "execution_count": 26,
   "metadata": {},
   "outputs": [
    {
     "data": {
      "text/plain": [
       "-1    5573\n",
       " 1    5573\n",
       " 0     981\n",
       "Name: change, dtype: int64"
      ]
     },
     "execution_count": 26,
     "metadata": {},
     "output_type": "execute_result"
    }
   ],
   "source": [
    "new_y_train.value_counts()"
   ]
  },
  {
   "cell_type": "code",
   "execution_count": 27,
   "metadata": {},
   "outputs": [
    {
     "data": {
      "text/plain": [
       "XGBClassifier(base_score=0.5, booster=None, colsample_bylevel=1,\n",
       "              colsample_bynode=1, colsample_bytree=1, gamma=0, gpu_id=-1,\n",
       "              importance_type='gain', interaction_constraints=None,\n",
       "              learning_rate=0.01, max_delta_step=0, max_depth=6,\n",
       "              min_child_weight=1, missing=nan, monotone_constraints=None,\n",
       "              n_estimators=100, n_jobs=0, num_parallel_tree=1,\n",
       "              objective='multi:softprob', random_state=1, reg_alpha=0,\n",
       "              reg_lambda=1, scale_pos_weight=None, subsample=1,\n",
       "              tree_method=None, validate_parameters=False, verbosity=None)"
      ]
     },
     "execution_count": 27,
     "metadata": {},
     "output_type": "execute_result"
    }
   ],
   "source": [
    "model_new.fit(new_X_train,new_y_train)"
   ]
  },
  {
   "cell_type": "code",
   "execution_count": 28,
   "metadata": {},
   "outputs": [
    {
     "data": {
      "text/plain": [
       "0.5928811758455818"
      ]
     },
     "execution_count": 28,
     "metadata": {},
     "output_type": "execute_result"
    }
   ],
   "source": [
    "model_new.score(X_test_t[['avg', 'close_slope', 'ema_26_slope', 'ema_9']],y_test_t)"
   ]
  },
  {
   "cell_type": "code",
   "execution_count": 30,
   "metadata": {},
   "outputs": [],
   "source": [
    "y = model_new.predict(X_test_t[['avg', 'close_slope', 'ema_26_slope', 'ema_9']])"
   ]
  },
  {
   "cell_type": "code",
   "execution_count": 31,
   "metadata": {},
   "outputs": [
    {
     "data": {
      "text/plain": [
       "array([0, 0, 0, 0, 0, 0, 0, 0], dtype=int64)"
      ]
     },
     "execution_count": 31,
     "metadata": {},
     "output_type": "execute_result"
    }
   ],
   "source": [
    "y[y==0]"
   ]
  },
  {
   "cell_type": "code",
   "execution_count": 32,
   "metadata": {},
   "outputs": [
    {
     "data": {
      "text/plain": [
       "array([0.20943446, 0.30193612, 0.23852499, 0.25010446], dtype=float32)"
      ]
     },
     "execution_count": 32,
     "metadata": {},
     "output_type": "execute_result"
    }
   ],
   "source": [
    "model_new.feature_importances_"
   ]
  },
  {
   "cell_type": "code",
   "execution_count": 33,
   "metadata": {},
   "outputs": [
    {
     "data": {
      "text/html": [
       "<div>\n",
       "<style scoped>\n",
       "    .dataframe tbody tr th:only-of-type {\n",
       "        vertical-align: middle;\n",
       "    }\n",
       "\n",
       "    .dataframe tbody tr th {\n",
       "        vertical-align: top;\n",
       "    }\n",
       "\n",
       "    .dataframe thead th {\n",
       "        text-align: right;\n",
       "    }\n",
       "</style>\n",
       "<table border=\"1\" class=\"dataframe\">\n",
       "  <thead>\n",
       "    <tr style=\"text-align: right;\">\n",
       "      <th></th>\n",
       "      <th>close</th>\n",
       "      <th>high</th>\n",
       "      <th>low</th>\n",
       "      <th>open</th>\n",
       "      <th>time</th>\n",
       "      <th>volume</th>\n",
       "      <th>avg</th>\n",
       "      <th>close_slope</th>\n",
       "      <th>ema_26</th>\n",
       "      <th>ema_26_slope</th>\n",
       "      <th>std_26</th>\n",
       "      <th>std_26_slope</th>\n",
       "      <th>ema_9</th>\n",
       "      <th>ema_9_slope</th>\n",
       "      <th>std_9</th>\n",
       "      <th>std_9_slope</th>\n",
       "      <th>ema_20</th>\n",
       "      <th>ema_20_slope</th>\n",
       "      <th>std_20</th>\n",
       "      <th>std_20_slope</th>\n",
       "    </tr>\n",
       "  </thead>\n",
       "  <tbody>\n",
       "    <tr>\n",
       "      <th>11147</th>\n",
       "      <td>3515.0</td>\n",
       "      <td>3521.0</td>\n",
       "      <td>3515.0</td>\n",
       "      <td>3521.0</td>\n",
       "      <td>1.568430e+12</td>\n",
       "      <td>0.0000</td>\n",
       "      <td>3518.00</td>\n",
       "      <td>-6.0</td>\n",
       "      <td>3526.306346</td>\n",
       "      <td>-0.904508</td>\n",
       "      <td>5.853204</td>\n",
       "      <td>0.402869</td>\n",
       "      <td>3524.298007</td>\n",
       "      <td>-2.324502</td>\n",
       "      <td>6.948221</td>\n",
       "      <td>1.483689</td>\n",
       "      <td>3524.298007</td>\n",
       "      <td>-2.324502</td>\n",
       "      <td>6.300376</td>\n",
       "      <td>0.479361</td>\n",
       "    </tr>\n",
       "    <tr>\n",
       "      <th>53280</th>\n",
       "      <td>2159.0</td>\n",
       "      <td>2168.5</td>\n",
       "      <td>2136.5</td>\n",
       "      <td>2136.5</td>\n",
       "      <td>1.581075e+12</td>\n",
       "      <td>10.5791</td>\n",
       "      <td>2147.75</td>\n",
       "      <td>22.5</td>\n",
       "      <td>2089.634178</td>\n",
       "      <td>5.549266</td>\n",
       "      <td>46.862187</td>\n",
       "      <td>0.891658</td>\n",
       "      <td>2127.255483</td>\n",
       "      <td>7.936129</td>\n",
       "      <td>18.556969</td>\n",
       "      <td>4.126100</td>\n",
       "      <td>2127.255483</td>\n",
       "      <td>7.936129</td>\n",
       "      <td>38.264179</td>\n",
       "      <td>0.182385</td>\n",
       "    </tr>\n",
       "    <tr>\n",
       "      <th>54007</th>\n",
       "      <td>2282.5</td>\n",
       "      <td>2286.5</td>\n",
       "      <td>2268.5</td>\n",
       "      <td>2278.5</td>\n",
       "      <td>1.581293e+12</td>\n",
       "      <td>0.0000</td>\n",
       "      <td>2280.50</td>\n",
       "      <td>4.0</td>\n",
       "      <td>2248.821990</td>\n",
       "      <td>2.694241</td>\n",
       "      <td>24.615231</td>\n",
       "      <td>-1.598718</td>\n",
       "      <td>2271.006267</td>\n",
       "      <td>2.873433</td>\n",
       "      <td>9.663074</td>\n",
       "      <td>-0.528835</td>\n",
       "      <td>2271.006267</td>\n",
       "      <td>2.873433</td>\n",
       "      <td>15.867876</td>\n",
       "      <td>-0.479585</td>\n",
       "    </tr>\n",
       "    <tr>\n",
       "      <th>59527</th>\n",
       "      <td>1605.5</td>\n",
       "      <td>1613.0</td>\n",
       "      <td>1595.0</td>\n",
       "      <td>1598.0</td>\n",
       "      <td>1.582949e+12</td>\n",
       "      <td>0.0000</td>\n",
       "      <td>1601.75</td>\n",
       "      <td>7.5</td>\n",
       "      <td>1567.598333</td>\n",
       "      <td>3.032133</td>\n",
       "      <td>18.121853</td>\n",
       "      <td>1.168194</td>\n",
       "      <td>1582.308372</td>\n",
       "      <td>5.797907</td>\n",
       "      <td>22.569953</td>\n",
       "      <td>2.473657</td>\n",
       "      <td>1582.308372</td>\n",
       "      <td>5.797907</td>\n",
       "      <td>17.882217</td>\n",
       "      <td>2.269385</td>\n",
       "    </tr>\n",
       "    <tr>\n",
       "      <th>29593</th>\n",
       "      <td>2034.5</td>\n",
       "      <td>2034.5</td>\n",
       "      <td>2025.0</td>\n",
       "      <td>2032.0</td>\n",
       "      <td>1.573969e+12</td>\n",
       "      <td>0.0000</td>\n",
       "      <td>2033.25</td>\n",
       "      <td>2.5</td>\n",
       "      <td>2038.265502</td>\n",
       "      <td>-0.301240</td>\n",
       "      <td>11.384352</td>\n",
       "      <td>-0.666327</td>\n",
       "      <td>2032.391951</td>\n",
       "      <td>0.527012</td>\n",
       "      <td>4.981215</td>\n",
       "      <td>-0.130727</td>\n",
       "      <td>2032.391951</td>\n",
       "      <td>0.527012</td>\n",
       "      <td>7.877516</td>\n",
       "      <td>-1.256140</td>\n",
       "    </tr>\n",
       "  </tbody>\n",
       "</table>\n",
       "</div>"
      ],
      "text/plain": [
       "        close    high     low    open          time   volume      avg  \\\n",
       "11147  3515.0  3521.0  3515.0  3521.0  1.568430e+12   0.0000  3518.00   \n",
       "53280  2159.0  2168.5  2136.5  2136.5  1.581075e+12  10.5791  2147.75   \n",
       "54007  2282.5  2286.5  2268.5  2278.5  1.581293e+12   0.0000  2280.50   \n",
       "59527  1605.5  1613.0  1595.0  1598.0  1.582949e+12   0.0000  1601.75   \n",
       "29593  2034.5  2034.5  2025.0  2032.0  1.573969e+12   0.0000  2033.25   \n",
       "\n",
       "       close_slope       ema_26  ema_26_slope     std_26  std_26_slope  \\\n",
       "11147         -6.0  3526.306346     -0.904508   5.853204      0.402869   \n",
       "53280         22.5  2089.634178      5.549266  46.862187      0.891658   \n",
       "54007          4.0  2248.821990      2.694241  24.615231     -1.598718   \n",
       "59527          7.5  1567.598333      3.032133  18.121853      1.168194   \n",
       "29593          2.5  2038.265502     -0.301240  11.384352     -0.666327   \n",
       "\n",
       "             ema_9  ema_9_slope      std_9  std_9_slope       ema_20  \\\n",
       "11147  3524.298007    -2.324502   6.948221     1.483689  3524.298007   \n",
       "53280  2127.255483     7.936129  18.556969     4.126100  2127.255483   \n",
       "54007  2271.006267     2.873433   9.663074    -0.528835  2271.006267   \n",
       "59527  1582.308372     5.797907  22.569953     2.473657  1582.308372   \n",
       "29593  2032.391951     0.527012   4.981215    -0.130727  2032.391951   \n",
       "\n",
       "       ema_20_slope     std_20  std_20_slope  \n",
       "11147     -2.324502   6.300376      0.479361  \n",
       "53280      7.936129  38.264179      0.182385  \n",
       "54007      2.873433  15.867876     -0.479585  \n",
       "59527      5.797907  17.882217      2.269385  \n",
       "29593      0.527012   7.877516     -1.256140  "
      ]
     },
     "execution_count": 33,
     "metadata": {},
     "output_type": "execute_result"
    }
   ],
   "source": [
    "X_test.tail()"
   ]
  },
  {
   "cell_type": "code",
   "execution_count": 34,
   "metadata": {},
   "outputs": [
    {
     "data": {
      "text/plain": [
       "-0.9999970992101977"
      ]
     },
     "execution_count": 34,
     "metadata": {},
     "output_type": "execute_result"
    }
   ],
   "source": [
    "from random import randint\n",
    "\n",
    "X_test_t = X_test_t[['avg', 'close_slope', 'ema_26_slope', 'ema_9']]\n",
    "\n",
    "def calculate_roi(model, x_test, debug = True):\n",
    "    df = x_test.copy()\n",
    "    \n",
    "    usd_balance = 100\n",
    "    crypto_balance = 0\n",
    "    n_actions = 0\n",
    "    \n",
    "    usd_balances = [usd_balance]\n",
    "    \n",
    "    df['prediction'] = model_new.predict(df)\n",
    "    \n",
    "    if debug:\n",
    "        print(df)\n",
    "    \n",
    "    for index, row in df.iterrows():\n",
    "        if row['prediction'] == 1 or row['prediction'] == 0:\n",
    "            if usd_balance:\n",
    "                crypto_balance = usd_balance / row['avg']\n",
    "                usd_balance = 0\n",
    "                \n",
    "                if debug:\n",
    "                    print(\"On index: \", index, \"BUY\")\n",
    "                \n",
    "                n_actions += 1\n",
    "            else:\n",
    "                pass\n",
    "        elif row['prediction'] == -1:\n",
    "            if usd_balance:\n",
    "                pass\n",
    "            else:\n",
    "                usd_balance = crypto_balance * row['avg']\n",
    "                \n",
    "                if debug:\n",
    "                    print(\"On index: \", index, \"SELL\")\n",
    "                \n",
    "                crypto_balance = 0\n",
    "                \n",
    "                usd_balances.append(usd_balance)\n",
    "                n_actions += 1\n",
    "                \n",
    "    if usd_balance:\n",
    "        pass\n",
    "    else:\n",
    "        usd_balance = crypto_balance * df.iloc[-1]['avg']\n",
    "    \n",
    "    if debug:\n",
    "        print(\"Initial USD$ balance: 100\")\n",
    "        print(\"Final USD$ balance: \", usd_balance)\n",
    "\n",
    "        print(\"Number of actions buy/sell taken: \", n_actions)\n",
    "\n",
    "        print(\"Max USD$ Balance\", max(usd_balances))\n",
    "        \n",
    "        print(\"Number of 0 predicted\", len(df[df['prediction'] == 0]))\n",
    "        \n",
    "    \n",
    "        \n",
    "    return (usd_balance - 100)/100\n",
    "\n",
    "calculate_roi(model_new, X_test_t, debug = False)"
   ]
  },
  {
   "cell_type": "code",
   "execution_count": 35,
   "metadata": {},
   "outputs": [
    {
     "data": {
      "text/plain": [
       "-0.13056673902490673"
      ]
     },
     "execution_count": 35,
     "metadata": {},
     "output_type": "execute_result"
    }
   ],
   "source": [
    "def get_avg_roi(model, x_test, iterations = 100):\n",
    "    n = len(x_test)\n",
    "    avg_roi = 0\n",
    "    \n",
    "    for i in range(iterations):\n",
    "        initial_point = randint(0, n-288*7)\n",
    "        x = calculate_roi(model, x_test[initial_point:initial_point + 288], debug = False)\n",
    "        \n",
    "        avg_roi += x / iterations\n",
    "        \n",
    "    return avg_roi\n",
    "    \n",
    "get_avg_roi(model_t, X_test_t)"
   ]
  }
 ],
 "metadata": {
  "kernelspec": {
   "display_name": "Python 3",
   "language": "python",
   "name": "python3"
  },
  "language_info": {
   "codemirror_mode": {
    "name": "ipython",
    "version": 3
   },
   "file_extension": ".py",
   "mimetype": "text/x-python",
   "name": "python",
   "nbconvert_exporter": "python",
   "pygments_lexer": "ipython3",
   "version": "3.6.10"
  }
 },
 "nbformat": 4,
 "nbformat_minor": 2
}
